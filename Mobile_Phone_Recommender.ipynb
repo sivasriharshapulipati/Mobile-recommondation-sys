{
  "nbformat": 4,
  "nbformat_minor": 0,
  "metadata": {
    "colab": {
      "provenance": [],
      "authorship_tag": "ABX9TyMXeFFpNs1mAOWumfy+x08n",
      "include_colab_link": true
    },
    "kernelspec": {
      "name": "python3",
      "display_name": "Python 3"
    },
    "language_info": {
      "name": "python"
    }
  },
  "cells": [
    {
      "cell_type": "markdown",
      "metadata": {
        "id": "view-in-github",
        "colab_type": "text"
      },
      "source": [
        "<a href=\"https://colab.research.google.com/github/sivasriharshapulipati/Mobile-recommondation-sys/blob/main/Mobile_Phone_Recommender.ipynb\" target=\"_parent\"><img src=\"https://colab.research.google.com/assets/colab-badge.svg\" alt=\"Open In Colab\"/></a>"
      ]
    },
    {
      "cell_type": "code",
      "source": [
        "import pandas as pd\n",
        "import numpy as np\n",
        "from sklearn.feature_extraction.text import CountVectorizer\n",
        "from sklearn.metrics.pairwise import cosine_similarity\n",
        "\n",
        "# Read the dataset\n",
        "df = pd.read_csv('/content/mainDataset.csv', encoding='unicode_escape')\n",
        "\n",
        "# Get user data and create a DataFrame\n",
        "user_data = {\n",
        "    \"Name\": ['harsha'],\n",
        "    \"Rating\": [4],\n",
        "    \"Price Rs\": [20000],\n",
        "    \"RAM Gb\": [8],\n",
        "    \"ROM Gb\": [128],\n",
        "    \"Expandable GB\": [' '],\n",
        "    \"Size Cm\": [' '],\n",
        "    \"Size Inch\": [6.52],\n",
        "    \"R1 Cam MP\": [58],\n",
        "    \"R2 Cam MP\": [' '],\n",
        "    \"R3 Cam MP\": [' '],\n",
        "    \"R4 Cam MP\": [' '],\n",
        "    \"Battery Mah\": [5000],\n",
        "    \"Processor\": 'snapdragon ',\n",
        "    \"Image\": ' '\n",
        "}\n",
        "user_df = pd.DataFrame(user_data)\n",
        "\n",
        "# Append the user dataframe to the main dataframe\n",
        "df = user_df.append(df, ignore_index=True)\n",
        "\n",
        "# Select Features\n",
        "features = ['Price Rs', 'Rating', 'RAM Gb', 'ROM Gb', 'Size Inch', 'R1 Cam MP', 'Battery Mah']\n",
        "\n",
        "# Create a column which will contain all these features\n",
        "def combineFeatures(row):\n",
        "    return ' '.join([str(row[feature]) for feature in features])\n",
        "\n",
        "# This will create a separate column of combined features\n",
        "df[\"combinedFeatures\"] = df.apply(combineFeatures, axis=1)\n",
        "\n",
        "# Create count matrix\n",
        "cv = CountVectorizer()\n",
        "count_matrix = cv.fit_transform(df['combinedFeatures'])\n",
        "\n",
        "# Calculate cosine similarity\n",
        "similar = cosine_similarity(count_matrix)\n",
        "\n",
        "# Get indices of similar phones\n",
        "similar_phones = list(enumerate(similar[0]))\n",
        "\n",
        "# Sort the entries according to similarity scores\n",
        "sorted_similar_phones = sorted(similar_phones, key=lambda x: x[1], reverse=True)\n",
        "\n",
        "# Retrieve the most similar 10 phones\n",
        "top_10_phones = []\n",
        "for phone in sorted_similar_phones:\n",
        "    if df.loc[phone[0], 'Name'] != 'User Req name':\n",
        "        top_10_phones.append(df.loc[phone[0], 'Name'])\n",
        "    if len(top_10_phones) == 10:\n",
        "        break\n",
        "\n",
        "# Print the most similar phones\n",
        "print(top_10_phones)\n"
      ],
      "metadata": {
        "colab": {
          "base_uri": "https://localhost:8080/"
        },
        "id": "e1n_yr1-Uc17",
        "outputId": "660942b3-075d-484c-d4f4-d374e49666de"
      },
      "execution_count": 2,
      "outputs": [
        {
          "output_type": "stream",
          "name": "stdout",
          "text": [
            "['harsha', 'OPPO A9 2020 (Vanilla Mint, 128 GB)', 'OPPO A9 2020 (Vanilla Mint, 128 GB)', 'Realme C3 (Volcano Grey, 64 GB)', 'Realme C3 (Frozen Blue, 32 GB)', 'Tecno Spark Go 2020 (Ice jadeite, 32 GB)', 'Tecno Spark Go 2020 (Aqua Blue, 32 GB)', 'Realme C3 (Volcano Grey, 32 GB)', 'Realme C3 (Blazing Red, 64 GB)', 'Motorola One Fusion+ (Twilight Blue, 128 GB)']\n"
          ]
        },
        {
          "output_type": "stream",
          "name": "stderr",
          "text": [
            "<ipython-input-2-a8c2c02d5913>:30: FutureWarning: The frame.append method is deprecated and will be removed from pandas in a future version. Use pandas.concat instead.\n",
            "  df = user_df.append(df, ignore_index=True)\n"
          ]
        }
      ]
    },
    {
      "cell_type": "code",
      "source": [
        "import pandas as pd\n",
        "import numpy as np\n",
        "from sklearn.feature_extraction.text import CountVectorizer\n",
        "from sklearn.metrics.pairwise import cosine_similarity\n"
      ],
      "metadata": {
        "id": "rfWbp7A4Ui7l"
      },
      "execution_count": null,
      "outputs": []
    },
    {
      "cell_type": "code",
      "source": [
        "df = pd.read_csv('/content/mainDataset.csv', encoding='unicode_escape')"
      ],
      "metadata": {
        "id": "ir49dygmfMBF"
      },
      "execution_count": null,
      "outputs": []
    }
  ]
}