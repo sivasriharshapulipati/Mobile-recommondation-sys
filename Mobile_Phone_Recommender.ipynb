{
  "nbformat": 4,
  "nbformat_minor": 0,
  "metadata": {
    "colab": {
      "provenance": [],
      "authorship_tag": "ABX9TyNebBRLU+LXnYOH2A2XN6fR",
      "include_colab_link": true
    },
    "kernelspec": {
      "name": "python3",
      "display_name": "Python 3"
    },
    "language_info": {
      "name": "python"
    }
  },
  "cells": [
    {
      "cell_type": "markdown",
      "metadata": {
        "id": "view-in-github",
        "colab_type": "text"
      },
      "source": [
        "<a href=\"https://colab.research.google.com/github/sivasriharshapulipati/Mobile-recommondation-sys/blob/main/Mobile_Phone_Recommender.ipynb\" target=\"_parent\"><img src=\"https://colab.research.google.com/assets/colab-badge.svg\" alt=\"Open In Colab\"/></a>"
      ]
    },
    {
      "cell_type": "code",
      "source": [
        "import pandas as pd\n",
        "import numpy as np\n",
        "from sklearn.feature_extraction.text import CountVectorizer\n",
        "from sklearn.metrics.pairwise import cosine_similarity\n",
        "\n",
        "# Read the dataset\n",
        "df = pd.read_csv('/content/mainDataset.csv', encoding='unicode_escape')\n",
        "\n",
        "# Get user data and create a DataFrame\n",
        "user_data = {\n",
        "    \"Name\": ['harsha'],\n",
        "    \"Rating\": [4],\n",
        "    \"Price Rs\": [20000],\n",
        "    \"RAM Gb\": [8],\n",
        "    \"ROM Gb\": [128],\n",
        "    \"Expandable GB\": [' '],\n",
        "    \"Size Cm\": [' '],\n",
        "    \"Size Inch\": [6.52],\n",
        "    \"R1 Cam MP\": [58],\n",
        "    \"R2 Cam MP\": [' '],\n",
        "    \"R3 Cam MP\": [' '],\n",
        "    \"R4 Cam MP\": [' '],\n",
        "    \"Battery Mah\": [5000],\n",
        "    \"Processor\": 'snapdragon ',\n",
        "    \"Image\": ' '\n",
        "}\n",
        "user_df = pd.DataFrame(user_data)\n",
        "\n",
        "# Append the user dataframe to the main dataframe\n",
        "df = user_df.append(df, ignore_index=True)\n",
        "\n",
        "# Select Features\n",
        "features = ['Price Rs', 'Rating', 'RAM Gb', 'ROM Gb', 'Size Inch', 'R1 Cam MP', 'Battery Mah']\n",
        "\n",
        "# Create a column which will contain all these features\n",
        "def combineFeatures(row):\n",
        "    return ' '.join([str(row[feature]) for feature in features])\n",
        "\n",
        "# This will create a separate column of combined features\n",
        "df[\"combinedFeatures\"] = df.apply(combineFeatures, axis=1)\n",
        "\n",
        "# Create count matrix\n",
        "cv = CountVectorizer()\n",
        "count_matrix = cv.fit_transform(df['combinedFeatures'])\n",
        "\n",
        "# Calculate cosine similarity\n",
        "similar = cosine_similarity(count_matrix)\n",
        "\n",
        "# Get indices of similar phones\n",
        "similar_phones = list(enumerate(similar[0]))\n",
        "\n",
        "# Sort the entries according to similarity scores\n",
        "sorted_similar_phones = sorted(similar_phones, key=lambda x: x[1], reverse=True)\n",
        "\n",
        "# Retrieve the most similar 10 phones\n",
        "top_10_phones = []\n",
        "for phone in sorted_similar_phones:\n",
        "    if df.loc[phone[0], 'Name'] != 'User Req name':\n",
        "        top_10_phones.append(df.loc[phone[0], 'Name'])\n",
        "    if len(top_10_phones) == 10:\n",
        "        break\n",
        "\n",
        "# Print the most similar phones\n",
        "print(top_10_phones)\n"
      ],
      "metadata": {
        "colab": {
          "base_uri": "https://localhost:8080/"
        },
        "id": "e1n_yr1-Uc17",
        "outputId": "660942b3-075d-484c-d4f4-d374e49666de"
      },
      "execution_count": null,
      "outputs": [
        {
          "output_type": "stream",
          "name": "stdout",
          "text": [
            "['harsha', 'OPPO A9 2020 (Vanilla Mint, 128 GB)', 'OPPO A9 2020 (Vanilla Mint, 128 GB)', 'Realme C3 (Volcano Grey, 64 GB)', 'Realme C3 (Frozen Blue, 32 GB)', 'Tecno Spark Go 2020 (Ice jadeite, 32 GB)', 'Tecno Spark Go 2020 (Aqua Blue, 32 GB)', 'Realme C3 (Volcano Grey, 32 GB)', 'Realme C3 (Blazing Red, 64 GB)', 'Motorola One Fusion+ (Twilight Blue, 128 GB)']\n"
          ]
        },
        {
          "output_type": "stream",
          "name": "stderr",
          "text": [
            "<ipython-input-2-a8c2c02d5913>:30: FutureWarning: The frame.append method is deprecated and will be removed from pandas in a future version. Use pandas.concat instead.\n",
            "  df = user_df.append(df, ignore_index=True)\n"
          ]
        }
      ]
    },
    {
      "cell_type": "code",
      "source": [
        "import pandas as pd\n",
        "import numpy as np\n",
        "from sklearn.feature_extraction.text import CountVectorizer\n",
        "from sklearn.metrics.pairwise import cosine_similarity\n",
        "import matplotlib.pyplot as plt"
      ],
      "metadata": {
        "id": "rfWbp7A4Ui7l"
      },
      "execution_count": 11,
      "outputs": []
    },
    {
      "cell_type": "code",
      "source": [
        "df = pd.read_csv('/content/mainDataset.csv', encoding='unicode_escape')"
      ],
      "metadata": {
        "id": "ir49dygmfMBF"
      },
      "execution_count": 4,
      "outputs": []
    },
    {
      "cell_type": "code",
      "source": [
        "df.head()"
      ],
      "metadata": {
        "colab": {
          "base_uri": "https://localhost:8080/",
          "height": 458
        },
        "id": "oVAKnWCdfzwn",
        "outputId": "0d81a635-6c72-4985-ed1d-8fae3e4d805a"
      },
      "execution_count": 5,
      "outputs": [
        {
          "output_type": "execute_result",
          "data": {
            "text/plain": [
              "                                     Name  Rating Price Rs  RAM Gb  ROM Gb  \\\n",
              "0  Realme Narzo 20 (Victory Blue, 128 GB)     4.5   11,499       4     128   \n",
              "1   Realme Narzo 20 (Victory Blue, 64 GB)     4.5   10,499       4      64   \n",
              "2  Realme Narzo 20 (Glory Sliver, 128 GB)     4.5   11,499       4     128   \n",
              "3   Realme Narzo 20 (Glory Sliver, 64 GB)     4.5   10,499       4      64   \n",
              "4            POCO M2 (Pitch Black, 64 GB)     4.4   10,999       6      64   \n",
              "\n",
              "   Expandable GB  Size Cm  Size Inch  R1 Cam MP  R2 Cam MP R3 Cam MP  \\\n",
              "0          256.0    16.56       6.52       48.0        8.0         2   \n",
              "1          256.0    16.56       6.52       48.0        8.0         2   \n",
              "2          256.0    16.56       6.52       48.0        8.0         2   \n",
              "3          256.0    16.56       6.52       48.0        8.0         2   \n",
              "4          512.0    16.59       6.53       13.0        8.0         5   \n",
              "\n",
              "   R4 Cam MP  Battery Mah                     Processor  \\\n",
              "0        NaN         6000  MediaTek Helio G85 Processor   \n",
              "1        NaN         6000  MediaTek Helio G85 Processor   \n",
              "2        NaN         6000  MediaTek Helio G85 Processor   \n",
              "3        NaN         6000  MediaTek Helio G85 Processor   \n",
              "4        2.0         5000  MediaTek Helio G80 Processor   \n",
              "\n",
              "                                               Image  \n",
              "0  https://rukminim1.flixcart.com/image/312/312/k...  \n",
              "1  https://rukminim1.flixcart.com/image/312/312/k...  \n",
              "2  https://rukminim1.flixcart.com/image/312/312/k...  \n",
              "3  https://rukminim1.flixcart.com/image/312/312/k...  \n",
              "4  https://rukminim1.flixcart.com/image/312/312/k...  "
            ],
            "text/html": [
              "\n",
              "  <div id=\"df-035fb197-8c35-48ea-972d-1798ea5fb7e0\">\n",
              "    <div class=\"colab-df-container\">\n",
              "      <div>\n",
              "<style scoped>\n",
              "    .dataframe tbody tr th:only-of-type {\n",
              "        vertical-align: middle;\n",
              "    }\n",
              "\n",
              "    .dataframe tbody tr th {\n",
              "        vertical-align: top;\n",
              "    }\n",
              "\n",
              "    .dataframe thead th {\n",
              "        text-align: right;\n",
              "    }\n",
              "</style>\n",
              "<table border=\"1\" class=\"dataframe\">\n",
              "  <thead>\n",
              "    <tr style=\"text-align: right;\">\n",
              "      <th></th>\n",
              "      <th>Name</th>\n",
              "      <th>Rating</th>\n",
              "      <th>Price Rs</th>\n",
              "      <th>RAM Gb</th>\n",
              "      <th>ROM Gb</th>\n",
              "      <th>Expandable GB</th>\n",
              "      <th>Size Cm</th>\n",
              "      <th>Size Inch</th>\n",
              "      <th>R1 Cam MP</th>\n",
              "      <th>R2 Cam MP</th>\n",
              "      <th>R3 Cam MP</th>\n",
              "      <th>R4 Cam MP</th>\n",
              "      <th>Battery Mah</th>\n",
              "      <th>Processor</th>\n",
              "      <th>Image</th>\n",
              "    </tr>\n",
              "  </thead>\n",
              "  <tbody>\n",
              "    <tr>\n",
              "      <th>0</th>\n",
              "      <td>Realme Narzo 20 (Victory Blue, 128 GB)</td>\n",
              "      <td>4.5</td>\n",
              "      <td>11,499</td>\n",
              "      <td>4</td>\n",
              "      <td>128</td>\n",
              "      <td>256.0</td>\n",
              "      <td>16.56</td>\n",
              "      <td>6.52</td>\n",
              "      <td>48.0</td>\n",
              "      <td>8.0</td>\n",
              "      <td>2</td>\n",
              "      <td>NaN</td>\n",
              "      <td>6000</td>\n",
              "      <td>MediaTek Helio G85 Processor</td>\n",
              "      <td>https://rukminim1.flixcart.com/image/312/312/k...</td>\n",
              "    </tr>\n",
              "    <tr>\n",
              "      <th>1</th>\n",
              "      <td>Realme Narzo 20 (Victory Blue, 64 GB)</td>\n",
              "      <td>4.5</td>\n",
              "      <td>10,499</td>\n",
              "      <td>4</td>\n",
              "      <td>64</td>\n",
              "      <td>256.0</td>\n",
              "      <td>16.56</td>\n",
              "      <td>6.52</td>\n",
              "      <td>48.0</td>\n",
              "      <td>8.0</td>\n",
              "      <td>2</td>\n",
              "      <td>NaN</td>\n",
              "      <td>6000</td>\n",
              "      <td>MediaTek Helio G85 Processor</td>\n",
              "      <td>https://rukminim1.flixcart.com/image/312/312/k...</td>\n",
              "    </tr>\n",
              "    <tr>\n",
              "      <th>2</th>\n",
              "      <td>Realme Narzo 20 (Glory Sliver, 128 GB)</td>\n",
              "      <td>4.5</td>\n",
              "      <td>11,499</td>\n",
              "      <td>4</td>\n",
              "      <td>128</td>\n",
              "      <td>256.0</td>\n",
              "      <td>16.56</td>\n",
              "      <td>6.52</td>\n",
              "      <td>48.0</td>\n",
              "      <td>8.0</td>\n",
              "      <td>2</td>\n",
              "      <td>NaN</td>\n",
              "      <td>6000</td>\n",
              "      <td>MediaTek Helio G85 Processor</td>\n",
              "      <td>https://rukminim1.flixcart.com/image/312/312/k...</td>\n",
              "    </tr>\n",
              "    <tr>\n",
              "      <th>3</th>\n",
              "      <td>Realme Narzo 20 (Glory Sliver, 64 GB)</td>\n",
              "      <td>4.5</td>\n",
              "      <td>10,499</td>\n",
              "      <td>4</td>\n",
              "      <td>64</td>\n",
              "      <td>256.0</td>\n",
              "      <td>16.56</td>\n",
              "      <td>6.52</td>\n",
              "      <td>48.0</td>\n",
              "      <td>8.0</td>\n",
              "      <td>2</td>\n",
              "      <td>NaN</td>\n",
              "      <td>6000</td>\n",
              "      <td>MediaTek Helio G85 Processor</td>\n",
              "      <td>https://rukminim1.flixcart.com/image/312/312/k...</td>\n",
              "    </tr>\n",
              "    <tr>\n",
              "      <th>4</th>\n",
              "      <td>POCO M2 (Pitch Black, 64 GB)</td>\n",
              "      <td>4.4</td>\n",
              "      <td>10,999</td>\n",
              "      <td>6</td>\n",
              "      <td>64</td>\n",
              "      <td>512.0</td>\n",
              "      <td>16.59</td>\n",
              "      <td>6.53</td>\n",
              "      <td>13.0</td>\n",
              "      <td>8.0</td>\n",
              "      <td>5</td>\n",
              "      <td>2.0</td>\n",
              "      <td>5000</td>\n",
              "      <td>MediaTek Helio G80 Processor</td>\n",
              "      <td>https://rukminim1.flixcart.com/image/312/312/k...</td>\n",
              "    </tr>\n",
              "  </tbody>\n",
              "</table>\n",
              "</div>\n",
              "      <button class=\"colab-df-convert\" onclick=\"convertToInteractive('df-035fb197-8c35-48ea-972d-1798ea5fb7e0')\"\n",
              "              title=\"Convert this dataframe to an interactive table.\"\n",
              "              style=\"display:none;\">\n",
              "        \n",
              "  <svg xmlns=\"http://www.w3.org/2000/svg\" height=\"24px\"viewBox=\"0 0 24 24\"\n",
              "       width=\"24px\">\n",
              "    <path d=\"M0 0h24v24H0V0z\" fill=\"none\"/>\n",
              "    <path d=\"M18.56 5.44l.94 2.06.94-2.06 2.06-.94-2.06-.94-.94-2.06-.94 2.06-2.06.94zm-11 1L8.5 8.5l.94-2.06 2.06-.94-2.06-.94L8.5 2.5l-.94 2.06-2.06.94zm10 10l.94 2.06.94-2.06 2.06-.94-2.06-.94-.94-2.06-.94 2.06-2.06.94z\"/><path d=\"M17.41 7.96l-1.37-1.37c-.4-.4-.92-.59-1.43-.59-.52 0-1.04.2-1.43.59L10.3 9.45l-7.72 7.72c-.78.78-.78 2.05 0 2.83L4 21.41c.39.39.9.59 1.41.59.51 0 1.02-.2 1.41-.59l7.78-7.78 2.81-2.81c.8-.78.8-2.07 0-2.86zM5.41 20L4 18.59l7.72-7.72 1.47 1.35L5.41 20z\"/>\n",
              "  </svg>\n",
              "      </button>\n",
              "      \n",
              "  <style>\n",
              "    .colab-df-container {\n",
              "      display:flex;\n",
              "      flex-wrap:wrap;\n",
              "      gap: 12px;\n",
              "    }\n",
              "\n",
              "    .colab-df-convert {\n",
              "      background-color: #E8F0FE;\n",
              "      border: none;\n",
              "      border-radius: 50%;\n",
              "      cursor: pointer;\n",
              "      display: none;\n",
              "      fill: #1967D2;\n",
              "      height: 32px;\n",
              "      padding: 0 0 0 0;\n",
              "      width: 32px;\n",
              "    }\n",
              "\n",
              "    .colab-df-convert:hover {\n",
              "      background-color: #E2EBFA;\n",
              "      box-shadow: 0px 1px 2px rgba(60, 64, 67, 0.3), 0px 1px 3px 1px rgba(60, 64, 67, 0.15);\n",
              "      fill: #174EA6;\n",
              "    }\n",
              "\n",
              "    [theme=dark] .colab-df-convert {\n",
              "      background-color: #3B4455;\n",
              "      fill: #D2E3FC;\n",
              "    }\n",
              "\n",
              "    [theme=dark] .colab-df-convert:hover {\n",
              "      background-color: #434B5C;\n",
              "      box-shadow: 0px 1px 3px 1px rgba(0, 0, 0, 0.15);\n",
              "      filter: drop-shadow(0px 1px 2px rgba(0, 0, 0, 0.3));\n",
              "      fill: #FFFFFF;\n",
              "    }\n",
              "  </style>\n",
              "\n",
              "      <script>\n",
              "        const buttonEl =\n",
              "          document.querySelector('#df-035fb197-8c35-48ea-972d-1798ea5fb7e0 button.colab-df-convert');\n",
              "        buttonEl.style.display =\n",
              "          google.colab.kernel.accessAllowed ? 'block' : 'none';\n",
              "\n",
              "        async function convertToInteractive(key) {\n",
              "          const element = document.querySelector('#df-035fb197-8c35-48ea-972d-1798ea5fb7e0');\n",
              "          const dataTable =\n",
              "            await google.colab.kernel.invokeFunction('convertToInteractive',\n",
              "                                                     [key], {});\n",
              "          if (!dataTable) return;\n",
              "\n",
              "          const docLinkHtml = 'Like what you see? Visit the ' +\n",
              "            '<a target=\"_blank\" href=https://colab.research.google.com/notebooks/data_table.ipynb>data table notebook</a>'\n",
              "            + ' to learn more about interactive tables.';\n",
              "          element.innerHTML = '';\n",
              "          dataTable['output_type'] = 'display_data';\n",
              "          await google.colab.output.renderOutput(dataTable, element);\n",
              "          const docLink = document.createElement('div');\n",
              "          docLink.innerHTML = docLinkHtml;\n",
              "          element.appendChild(docLink);\n",
              "        }\n",
              "      </script>\n",
              "    </div>\n",
              "  </div>\n",
              "  "
            ]
          },
          "metadata": {},
          "execution_count": 5
        }
      ]
    },
    {
      "cell_type": "code",
      "source": [
        "df.shape"
      ],
      "metadata": {
        "colab": {
          "base_uri": "https://localhost:8080/"
        },
        "id": "YVp2Em_Af3jD",
        "outputId": "fef2255b-1b9f-4a6c-ecac-a8c2066a79db"
      },
      "execution_count": null,
      "outputs": [
        {
          "output_type": "execute_result",
          "data": {
            "text/plain": [
              "(961, 15)"
            ]
          },
          "metadata": {},
          "execution_count": 6
        }
      ]
    },
    {
      "cell_type": "code",
      "source": [
        "# Data preprocessing\n",
        "df['Rating'] = pd.to_numeric(df['Rating'])\n",
        "df['Price Rs'] = df['Price Rs'].str.replace(',', '').astype(float)\n",
        "df['RAM Gb'] = pd.to_numeric(df['RAM Gb'])\n",
        "df['ROM Gb'] = pd.to_numeric(df['ROM Gb'])\n",
        "df['Size Inch'] = pd.to_numeric(df['Size Inch'])\n",
        "df['R1 Cam MP'] = pd.to_numeric(df['R1 Cam MP'])\n",
        "df['Battery Mah'] = pd.to_numeric(df['Battery Mah'])"
      ],
      "metadata": {
        "id": "7tJeOYO_SnNg"
      },
      "execution_count": 7,
      "outputs": []
    },
    {
      "cell_type": "code",
      "source": [
        "# Bar graph: Average Rating by Index\n",
        "average_rating_by_index = df['Rating']\n",
        "plt.figure(figsize=(10, 6))\n",
        "plt.bar(df.index, average_rating_by_index, color='skyblue')\n",
        "plt.title('Average Rating by Index')\n",
        "plt.xlabel('Index')\n",
        "plt.ylabel('Average Rating')\n",
        "plt.xticks(np.arange(0, len(df.index), 50))\n",
        "plt.yticks(np.arange(0, 5, 0.5))\n",
        "plt.tight_layout()\n",
        "plt.show()"
      ],
      "metadata": {
        "colab": {
          "base_uri": "https://localhost:8080/",
          "height": 607
        },
        "id": "cGo3njVFSm37",
        "outputId": "1b9ea87e-4a8f-436d-f5ad-a4255ac9bc75"
      },
      "execution_count": 30,
      "outputs": [
        {
          "output_type": "display_data",
          "data": {
            "text/plain": [
              "<Figure size 1000x600 with 1 Axes>"
            ],
            "image/png": "[encoded data removed]"
          },
          "metadata": {}
        }
      ]
    },
    {
      "cell_type": "code",
      "source": [
        "# Scatter plot: Price vs. Rating\n",
        "plt.figure(figsize=(8, 6))\n",
        "plt.scatter(df['Price Rs'], df['Rating'], color='orange', alpha=0.6)\n",
        "plt.title('Price vs. Rating')\n",
        "plt.xlabel('Price (Rs)')\n",
        "plt.ylabel('Rating')\n",
        "plt.show()"
      ],
      "metadata": {
        "colab": {
          "base_uri": "https://localhost:8080/",
          "height": 564
        },
        "id": "tZWm0pgrTwnX",
        "outputId": "e39fa063-142d-4d56-f9d7-863144266c7e"
      },
      "execution_count": 13,
      "outputs": [
        {
          "output_type": "display_data",
          "data": {
            "text/plain": [
              "<Figure size 800x600 with 1 Axes>"
            ],
            "image/png": "[encoded data removed]"
          },
          "metadata": {}
        }
      ]
    },
    {
      "cell_type": "code",
      "source": [
        "# Histogram: RAM Distribution\n",
        "plt.figure(figsize=(8, 6))\n",
        "plt.hist(df['RAM Gb'], bins=10, color='purple', edgecolor='black', alpha=0.7)\n",
        "plt.title('RAM Distribution')\n",
        "plt.xlabel('RAM (Gb)')\n",
        "plt.ylabel('Frequency')\n",
        "plt.show()"
      ],
      "metadata": {
        "colab": {
          "base_uri": "https://localhost:8080/",
          "height": 564
        },
        "id": "N9277c--TwhR",
        "outputId": "224597ac-94bc-420f-af70-22af2c6bd219"
      },
      "execution_count": 14,
      "outputs": [
        {
          "output_type": "display_data",
          "data": {
            "text/plain": [
              "<Figure size 800x600 with 1 Axes>"
            ],
            "image/png": "[encoded data removed]"
          },
          "metadata": {}
        }
      ]
    },
    {
      "cell_type": "code",
      "source": [
        "# Box plot: Battery Capacity by Brand\n",
        "plt.figure(figsize=(10, 6))\n",
        "df.boxplot(column='Battery Mah', vert=False)\n",
        "plt.title('Battery Capacity by Brand')\n",
        "plt.xlabel('Battery Capacity (mAh)')\n",
        "plt.ylabel('Brand')\n",
        "plt.tight_layout()\n",
        "plt.show()"
      ],
      "metadata": {
        "colab": {
          "base_uri": "https://localhost:8080/",
          "height": 607
        },
        "id": "DawMGUPvTwSl",
        "outputId": "e755b969-d111-4c7c-a7b1-f6fc94825b32"
      },
      "execution_count": 25,
      "outputs": [
        {
          "output_type": "display_data",
          "data": {
            "text/plain": [
              "<Figure size 1000x600 with 1 Axes>"
            ],
            "image/png": "[encoded data removed]"
          },
          "metadata": {}
        }
      ]
    },
    {
      "cell_type": "code",
      "source": [
        "user_data = {\n",
        "    \"Name\": ['harsha'],\n",
        "    \"Rating\": [4],\n",
        "    \"Price Rs\": [20000],\n",
        "    \"RAM Gb\": [8],\n",
        "    \"ROM Gb\": [128],\n",
        "    \"Expandable GB\": [' '],\n",
        "    \"Size Cm\": [' '],\n",
        "    \"Size Inch\": [6.52],\n",
        "    \"R1 Cam MP\": [58],\n",
        "    \"R2 Cam MP\": [' '],\n",
        "    \"R3 Cam MP\": [' '],\n",
        "    \"R4 Cam MP\": [' '],\n",
        "    \"Battery Mah\": [5000],\n",
        "    \"Processor\": 'snapdragon ',\n",
        "    \"Image\": ' '\n",
        "}\n",
        "user_df = pd.DataFrame(user_data);\n",
        "\n",
        "df = pd.concat([user_df, df], ignore_index=True)"
      ],
      "metadata": {
        "id": "oxRpwf56gDGb"
      },
      "execution_count": null,
      "outputs": []
    },
    {
      "cell_type": "code",
      "source": [
        "features = ['Price Rs', 'Rating', 'RAM Gb', 'ROM Gb', 'Size Inch', 'R1 Cam MP', 'Battery Mah']\n",
        "print(features)"
      ],
      "metadata": {
        "colab": {
          "base_uri": "https://localhost:8080/"
        },
        "id": "ytSdZtvIgP24",
        "outputId": "b12f424f-e98f-4191-a04e-597b2350a4ea"
      },
      "execution_count": null,
      "outputs": [
        {
          "output_type": "stream",
          "name": "stdout",
          "text": [
            "['Price Rs', 'Rating', 'RAM Gb', 'ROM Gb', 'Size Inch', 'R1 Cam MP', 'Battery Mah']\n"
          ]
        }
      ]
    },
    {
      "cell_type": "code",
      "source": [
        "#replacing the null values with null string\n",
        "for feature in features:\n",
        "  df[feature] = df[feature].fillna('')"
      ],
      "metadata": {
        "id": "HWBI3TNWhFAA"
      },
      "execution_count": null,
      "outputs": []
    },
    {
      "cell_type": "code",
      "source": [
        "# Create a column which will contain all these features\n",
        "def combineFeatures(row):\n",
        "    return ' '.join([str(row[feature]) for feature in features])\n",
        "\n",
        "# This will create a separate column of combined features\n",
        "df[\"combinedFeatures\"] = df.apply(combineFeatures, axis=1)"
      ],
      "metadata": {
        "id": "HQHY3HQ7hT_O"
      },
      "execution_count": null,
      "outputs": []
    },
    {
      "cell_type": "code",
      "source": [
        "df.head()"
      ],
      "metadata": {
        "colab": {
          "base_uri": "https://localhost:8080/",
          "height": 528
        },
        "id": "s-bYu1jKhd7m",
        "outputId": "60c9fe64-b1cd-4f85-9e4c-f66f5b62cf52"
      },
      "execution_count": null,
      "outputs": [
        {
          "output_type": "execute_result",
          "data": {
            "text/plain": [
              "                                     Name Rating Price Rs  RAM Gb  ROM Gb  \\\n",
              "0                                  harsha    4.0    20000       8     128   \n",
              "1                                  harsha    4.0    20000       8     128   \n",
              "2  Realme Narzo 20 (Victory Blue, 128 GB)    4.5   11,499       4     128   \n",
              "3   Realme Narzo 20 (Victory Blue, 64 GB)    4.5   10,499       4      64   \n",
              "4  Realme Narzo 20 (Glory Sliver, 128 GB)    4.5   11,499       4     128   \n",
              "\n",
              "  Expandable GB Size Cm  Size Inch  R1 Cam MP R2 Cam MP R3 Cam MP R4 Cam MP  \\\n",
              "0                             6.52       58.0                                 \n",
              "1                             6.52       58.0                                 \n",
              "2         256.0   16.56       6.52       48.0       8.0         2       NaN   \n",
              "3         256.0   16.56       6.52       48.0       8.0         2       NaN   \n",
              "4         256.0   16.56       6.52       48.0       8.0         2       NaN   \n",
              "\n",
              "   Battery Mah                     Processor  \\\n",
              "0         5000                   snapdragon    \n",
              "1         5000                   snapdragon    \n",
              "2         6000  MediaTek Helio G85 Processor   \n",
              "3         6000  MediaTek Helio G85 Processor   \n",
              "4         6000  MediaTek Helio G85 Processor   \n",
              "\n",
              "                                               Image  \\\n",
              "0                                                      \n",
              "1                                                      \n",
              "2  https://rukminim1.flixcart.com/image/312/312/k...   \n",
              "3  https://rukminim1.flixcart.com/image/312/312/k...   \n",
              "4  https://rukminim1.flixcart.com/image/312/312/k...   \n",
              "\n",
              "                  combinedFeatures  \n",
              "0   20000 4.0 8 128 6.52 58.0 5000  \n",
              "1   20000 4.0 8 128 6.52 58.0 5000  \n",
              "2  11,499 4.5 4 128 6.52 48.0 6000  \n",
              "3   10,499 4.5 4 64 6.52 48.0 6000  \n",
              "4  11,499 4.5 4 128 6.52 48.0 6000  "
            ],
            "text/html": [
              "\n",
              "  <div id=\"df-1d139a61-ae40-4774-bf19-dec1c0451b0b\">\n",
              "    <div class=\"colab-df-container\">\n",
              "      <div>\n",
              "<style scoped>\n",
              "    .dataframe tbody tr th:only-of-type {\n",
              "        vertical-align: middle;\n",
              "    }\n",
              "\n",
              "    .dataframe tbody tr th {\n",
              "        vertical-align: top;\n",
              "    }\n",
              "\n",
              "    .dataframe thead th {\n",
              "        text-align: right;\n",
              "    }\n",
              "</style>\n",
              "<table border=\"1\" class=\"dataframe\">\n",
              "  <thead>\n",
              "    <tr style=\"text-align: right;\">\n",
              "      <th></th>\n",
              "      <th>Name</th>\n",
              "      <th>Rating</th>\n",
              "      <th>Price Rs</th>\n",
              "      <th>RAM Gb</th>\n",
              "      <th>ROM Gb</th>\n",
              "      <th>Expandable GB</th>\n",
              "      <th>Size Cm</th>\n",
              "      <th>Size Inch</th>\n",
              "      <th>R1 Cam MP</th>\n",
              "      <th>R2 Cam MP</th>\n",
              "      <th>R3 Cam MP</th>\n",
              "      <th>R4 Cam MP</th>\n",
              "      <th>Battery Mah</th>\n",
              "      <th>Processor</th>\n",
              "      <th>Image</th>\n",
              "      <th>combinedFeatures</th>\n",
              "    </tr>\n",
              "  </thead>\n",
              "  <tbody>\n",
              "    <tr>\n",
              "      <th>0</th>\n",
              "      <td>harsha</td>\n",
              "      <td>4.0</td>\n",
              "      <td>20000</td>\n",
              "      <td>8</td>\n",
              "      <td>128</td>\n",
              "      <td></td>\n",
              "      <td></td>\n",
              "      <td>6.52</td>\n",
              "      <td>58.0</td>\n",
              "      <td></td>\n",
              "      <td></td>\n",
              "      <td></td>\n",
              "      <td>5000</td>\n",
              "      <td>snapdragon</td>\n",
              "      <td></td>\n",
              "      <td>20000 4.0 8 128 6.52 58.0 5000</td>\n",
              "    </tr>\n",
              "    <tr>\n",
              "      <th>1</th>\n",
              "      <td>harsha</td>\n",
              "      <td>4.0</td>\n",
              "      <td>20000</td>\n",
              "      <td>8</td>\n",
              "      <td>128</td>\n",
              "      <td></td>\n",
              "      <td></td>\n",
              "      <td>6.52</td>\n",
              "      <td>58.0</td>\n",
              "      <td></td>\n",
              "      <td></td>\n",
              "      <td></td>\n",
              "      <td>5000</td>\n",
              "      <td>snapdragon</td>\n",
              "      <td></td>\n",
              "      <td>20000 4.0 8 128 6.52 58.0 5000</td>\n",
              "    </tr>\n",
              "    <tr>\n",
              "      <th>2</th>\n",
              "      <td>Realme Narzo 20 (Victory Blue, 128 GB)</td>\n",
              "      <td>4.5</td>\n",
              "      <td>11,499</td>\n",
              "      <td>4</td>\n",
              "      <td>128</td>\n",
              "      <td>256.0</td>\n",
              "      <td>16.56</td>\n",
              "      <td>6.52</td>\n",
              "      <td>48.0</td>\n",
              "      <td>8.0</td>\n",
              "      <td>2</td>\n",
              "      <td>NaN</td>\n",
              "      <td>6000</td>\n",
              "      <td>MediaTek Helio G85 Processor</td>\n",
              "      <td>https://rukminim1.flixcart.com/image/312/312/k...</td>\n",
              "      <td>11,499 4.5 4 128 6.52 48.0 6000</td>\n",
              "    </tr>\n",
              "    <tr>\n",
              "      <th>3</th>\n",
              "      <td>Realme Narzo 20 (Victory Blue, 64 GB)</td>\n",
              "      <td>4.5</td>\n",
              "      <td>10,499</td>\n",
              "      <td>4</td>\n",
              "      <td>64</td>\n",
              "      <td>256.0</td>\n",
              "      <td>16.56</td>\n",
              "      <td>6.52</td>\n",
              "      <td>48.0</td>\n",
              "      <td>8.0</td>\n",
              "      <td>2</td>\n",
              "      <td>NaN</td>\n",
              "      <td>6000</td>\n",
              "      <td>MediaTek Helio G85 Processor</td>\n",
              "      <td>https://rukminim1.flixcart.com/image/312/312/k...</td>\n",
              "      <td>10,499 4.5 4 64 6.52 48.0 6000</td>\n",
              "    </tr>\n",
              "    <tr>\n",
              "      <th>4</th>\n",
              "      <td>Realme Narzo 20 (Glory Sliver, 128 GB)</td>\n",
              "      <td>4.5</td>\n",
              "      <td>11,499</td>\n",
              "      <td>4</td>\n",
              "      <td>128</td>\n",
              "      <td>256.0</td>\n",
              "      <td>16.56</td>\n",
              "      <td>6.52</td>\n",
              "      <td>48.0</td>\n",
              "      <td>8.0</td>\n",
              "      <td>2</td>\n",
              "      <td>NaN</td>\n",
              "      <td>6000</td>\n",
              "      <td>MediaTek Helio G85 Processor</td>\n",
              "      <td>https://rukminim1.flixcart.com/image/312/312/k...</td>\n",
              "      <td>11,499 4.5 4 128 6.52 48.0 6000</td>\n",
              "    </tr>\n",
              "  </tbody>\n",
              "</table>\n",
              "</div>\n",
              "      <button class=\"colab-df-convert\" onclick=\"convertToInteractive('df-1d139a61-ae40-4774-bf19-dec1c0451b0b')\"\n",
              "              title=\"Convert this dataframe to an interactive table.\"\n",
              "              style=\"display:none;\">\n",
              "        \n",
              "  <svg xmlns=\"http://www.w3.org/2000/svg\" height=\"24px\"viewBox=\"0 0 24 24\"\n",
              "       width=\"24px\">\n",
              "    <path d=\"M0 0h24v24H0V0z\" fill=\"none\"/>\n",
              "    <path d=\"M18.56 5.44l.94 2.06.94-2.06 2.06-.94-2.06-.94-.94-2.06-.94 2.06-2.06.94zm-11 1L8.5 8.5l.94-2.06 2.06-.94-2.06-.94L8.5 2.5l-.94 2.06-2.06.94zm10 10l.94 2.06.94-2.06 2.06-.94-2.06-.94-.94-2.06-.94 2.06-2.06.94z\"/><path d=\"M17.41 7.96l-1.37-1.37c-.4-.4-.92-.59-1.43-.59-.52 0-1.04.2-1.43.59L10.3 9.45l-7.72 7.72c-.78.78-.78 2.05 0 2.83L4 21.41c.39.39.9.59 1.41.59.51 0 1.02-.2 1.41-.59l7.78-7.78 2.81-2.81c.8-.78.8-2.07 0-2.86zM5.41 20L4 18.59l7.72-7.72 1.47 1.35L5.41 20z\"/>\n",
              "  </svg>\n",
              "      </button>\n",
              "      \n",
              "  <style>\n",
              "    .colab-df-container {\n",
              "      display:flex;\n",
              "      flex-wrap:wrap;\n",
              "      gap: 12px;\n",
              "    }\n",
              "\n",
              "    .colab-df-convert {\n",
              "      background-color: #E8F0FE;\n",
              "      border: none;\n",
              "      border-radius: 50%;\n",
              "      cursor: pointer;\n",
              "      display: none;\n",
              "      fill: #1967D2;\n",
              "      height: 32px;\n",
              "      padding: 0 0 0 0;\n",
              "      width: 32px;\n",
              "    }\n",
              "\n",
              "    .colab-df-convert:hover {\n",
              "      background-color: #E2EBFA;\n",
              "      box-shadow: 0px 1px 2px rgba(60, 64, 67, 0.3), 0px 1px 3px 1px rgba(60, 64, 67, 0.15);\n",
              "      fill: #174EA6;\n",
              "    }\n",
              "\n",
              "    [theme=dark] .colab-df-convert {\n",
              "      background-color: #3B4455;\n",
              "      fill: #D2E3FC;\n",
              "    }\n",
              "\n",
              "    [theme=dark] .colab-df-convert:hover {\n",
              "      background-color: #434B5C;\n",
              "      box-shadow: 0px 1px 3px 1px rgba(0, 0, 0, 0.15);\n",
              "      filter: drop-shadow(0px 1px 2px rgba(0, 0, 0, 0.3));\n",
              "      fill: #FFFFFF;\n",
              "    }\n",
              "  </style>\n",
              "\n",
              "      <script>\n",
              "        const buttonEl =\n",
              "          document.querySelector('#df-1d139a61-ae40-4774-bf19-dec1c0451b0b button.colab-df-convert');\n",
              "        buttonEl.style.display =\n",
              "          google.colab.kernel.accessAllowed ? 'block' : 'none';\n",
              "\n",
              "        async function convertToInteractive(key) {\n",
              "          const element = document.querySelector('#df-1d139a61-ae40-4774-bf19-dec1c0451b0b');\n",
              "          const dataTable =\n",
              "            await google.colab.kernel.invokeFunction('convertToInteractive',\n",
              "                                                     [key], {});\n",
              "          if (!dataTable) return;\n",
              "\n",
              "          const docLinkHtml = 'Like what you see? Visit the ' +\n",
              "            '<a target=\"_blank\" href=https://colab.research.google.com/notebooks/data_table.ipynb>data table notebook</a>'\n",
              "            + ' to learn more about interactive tables.';\n",
              "          element.innerHTML = '';\n",
              "          dataTable['output_type'] = 'display_data';\n",
              "          await google.colab.output.renderOutput(dataTable, element);\n",
              "          const docLink = document.createElement('div');\n",
              "          docLink.innerHTML = docLinkHtml;\n",
              "          element.appendChild(docLink);\n",
              "        }\n",
              "      </script>\n",
              "    </div>\n",
              "  </div>\n",
              "  "
            ]
          },
          "metadata": {},
          "execution_count": 14
        }
      ]
    },
    {
      "cell_type": "code",
      "source": [
        "cv = CountVectorizer()\n",
        "count_matrix = cv.fit_transform(df['combinedFeatures'])"
      ],
      "metadata": {
        "id": "Jjjhyid_hqJy"
      },
      "execution_count": null,
      "outputs": []
    },
    {
      "cell_type": "code",
      "source": [
        "# Calculate cosine similarity\n",
        "similar = cosine_similarity(count_matrix)"
      ],
      "metadata": {
        "id": "9ghlJrg2h7EN"
      },
      "execution_count": null,
      "outputs": []
    },
    {
      "cell_type": "code",
      "source": [
        "print(similar)"
      ],
      "metadata": {
        "colab": {
          "base_uri": "https://localhost:8080/"
        },
        "id": "hyOsg7cViDI8",
        "outputId": "fe3b180f-f7da-490a-f9ce-c0cd889ca654"
      },
      "execution_count": null,
      "outputs": [
        {
          "output_type": "stream",
          "name": "stdout",
          "text": [
            "[[1.         1.         0.36514837 ... 0.         0.         0.        ]\n",
            " [1.         1.         0.36514837 ... 0.         0.         0.        ]\n",
            " [0.36514837 0.36514837 1.         ... 0.         0.20412415 0.        ]\n",
            " ...\n",
            " [0.         0.         0.         ... 1.         0.2236068  0.4       ]\n",
            " [0.         0.         0.20412415 ... 0.2236068  1.         0.2236068 ]\n",
            " [0.         0.         0.         ... 0.4        0.2236068  1.        ]]\n"
          ]
        }
      ]
    },
    {
      "cell_type": "code",
      "source": [
        "print(similar.shape)"
      ],
      "metadata": {
        "colab": {
          "base_uri": "https://localhost:8080/"
        },
        "id": "_rHwyy3iiNhE",
        "outputId": "bb7b7964-86f3-41f6-92fb-2c7bb6476e58"
      },
      "execution_count": null,
      "outputs": [
        {
          "output_type": "stream",
          "name": "stdout",
          "text": [
            "(963, 963)\n"
          ]
        }
      ]
    },
    {
      "cell_type": "code",
      "source": [
        "# Get indices of similar phones\n",
        "similar_phones = list(enumerate(similar[0]))"
      ],
      "metadata": {
        "id": "DcnmbzfkiZ06"
      },
      "execution_count": null,
      "outputs": []
    },
    {
      "cell_type": "code",
      "source": [
        "# Sort the entries according to similarity scores\n",
        "sorted_similar_phones = sorted(similar_phones, key=lambda x: x[1], reverse=True)"
      ],
      "metadata": {
        "id": "tRN37YJhi9Tf"
      },
      "execution_count": null,
      "outputs": []
    },
    {
      "cell_type": "code",
      "source": [
        "# Retrieve the most similar 10 phones\n",
        "top_10_phones = []\n",
        "for phone in sorted_similar_phones:\n",
        "    if df.loc[phone[0], 'Name'] != 'User Req name':\n",
        "        top_10_phones.append(df.loc[phone[0], 'Name'])\n",
        "    if len(top_10_phones) == 10:\n",
        "        break\n",
        "\n",
        "# Print the most similar phones\n",
        "print(top_10_phones)"
      ],
      "metadata": {
        "colab": {
          "base_uri": "https://localhost:8080/",
          "height": 239
        },
        "id": "eYjJQjbqjHcx",
        "outputId": "e2c9780d-c4de-43de-9031-0cc6e762f0fc"
      },
      "execution_count": 31,
      "outputs": [
        {
          "output_type": "error",
          "ename": "NameError",
          "evalue": "ignored",
          "traceback": [
            "\u001b[0;31m---------------------------------------------------------------------------\u001b[0m",
            "\u001b[0;31mNameError\u001b[0m                                 Traceback (most recent call last)",
            "\u001b[0;32m<ipython-input-31-c81b02d78d77>\u001b[0m in \u001b[0;36m<cell line: 3>\u001b[0;34m()\u001b[0m\n\u001b[1;32m      1\u001b[0m \u001b[0;31m# Retrieve the most similar 10 phones\u001b[0m\u001b[0;34m\u001b[0m\u001b[0;34m\u001b[0m\u001b[0m\n\u001b[1;32m      2\u001b[0m \u001b[0mtop_10_phones\u001b[0m \u001b[0;34m=\u001b[0m \u001b[0;34m[\u001b[0m\u001b[0;34m]\u001b[0m\u001b[0;34m\u001b[0m\u001b[0;34m\u001b[0m\u001b[0m\n\u001b[0;32m----> 3\u001b[0;31m \u001b[0;32mfor\u001b[0m \u001b[0mphone\u001b[0m \u001b[0;32min\u001b[0m \u001b[0msorted_similar_phones\u001b[0m\u001b[0;34m:\u001b[0m\u001b[0;34m\u001b[0m\u001b[0;34m\u001b[0m\u001b[0m\n\u001b[0m\u001b[1;32m      4\u001b[0m     \u001b[0;32mif\u001b[0m \u001b[0mdf\u001b[0m\u001b[0;34m.\u001b[0m\u001b[0mloc\u001b[0m\u001b[0;34m[\u001b[0m\u001b[0mphone\u001b[0m\u001b[0;34m[\u001b[0m\u001b[0;36m0\u001b[0m\u001b[0;34m]\u001b[0m\u001b[0;34m,\u001b[0m \u001b[0;34m'Name'\u001b[0m\u001b[0;34m]\u001b[0m \u001b[0;34m!=\u001b[0m \u001b[0;34m'User Req name'\u001b[0m\u001b[0;34m:\u001b[0m\u001b[0;34m\u001b[0m\u001b[0;34m\u001b[0m\u001b[0m\n\u001b[1;32m      5\u001b[0m         \u001b[0mtop_10_phones\u001b[0m\u001b[0;34m.\u001b[0m\u001b[0mappend\u001b[0m\u001b[0;34m(\u001b[0m\u001b[0mdf\u001b[0m\u001b[0;34m.\u001b[0m\u001b[0mloc\u001b[0m\u001b[0;34m[\u001b[0m\u001b[0mphone\u001b[0m\u001b[0;34m[\u001b[0m\u001b[0;36m0\u001b[0m\u001b[0;34m]\u001b[0m\u001b[0;34m,\u001b[0m \u001b[0;34m'Name'\u001b[0m\u001b[0;34m]\u001b[0m\u001b[0;34m)\u001b[0m\u001b[0;34m\u001b[0m\u001b[0;34m\u001b[0m\u001b[0m\n",
            "\u001b[0;31mNameError\u001b[0m: name 'sorted_similar_phones' is not defined"
          ]
        }
      ]
    },
    {
      "cell_type": "code",
      "source": [
        "\n",
        "\n",
        "i = 0\n",
        "for i in range(10):\n",
        "  print( i+1 , \"-\",top_10_phones[i])\n"
      ],
      "metadata": {
        "colab": {
          "base_uri": "https://localhost:8080/"
        },
        "id": "rtA3t-gwjIfp",
        "outputId": "160a5938-908d-4e25-9f6a-d487a66b5279"
      },
      "execution_count": null,
      "outputs": [
        {
          "output_type": "stream",
          "name": "stdout",
          "text": [
            "1 - harsha\n",
            "2 - harsha\n",
            "3 - OPPO A9 2020 (Vanilla Mint, 128 GB)\n",
            "4 - OPPO A9 2020 (Vanilla Mint, 128 GB)\n",
            "5 - Realme C3 (Volcano Grey, 64 GB)\n",
            "6 - Realme C3 (Frozen Blue, 32 GB)\n",
            "7 - Tecno Spark Go 2020 (Ice jadeite, 32 GB)\n",
            "8 - Tecno Spark Go 2020 (Aqua Blue, 32 GB)\n",
            "9 - Realme C3 (Volcano Grey, 32 GB)\n"
          ]
        }
      ]
    },
    {
      "cell_type": "code",
      "source": [],
      "metadata": {
        "id": "cvV2aqn9kGBL"
      },
      "execution_count": null,
      "outputs": []
    }
  ]
}